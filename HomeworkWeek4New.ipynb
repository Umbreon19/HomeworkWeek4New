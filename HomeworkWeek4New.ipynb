{
 "cells": [
  {
   "cell_type": "code",
   "execution_count": 5,
   "metadata": {},
   "outputs": [],
   "source": [
    "def MinuteConverterThing(Minutes) :   \n",
    "    minutes=input('How many minutes do you want to convert into hours?')\n",
    "    minutes=int(minutes)\n",
    "    hours=minutes/60\n",
    "    print(hours)\n",
    "def MetricToCostomaryConverter(Meters) :\n",
    "    meters=input('How many meters would you like to convert to yards?')\n",
    "    minutes=int(minutes)\n",
    "    yards=meters*1.09361\n",
    "    print(yards)\n",
    "def CostomaryToMetricConverter(Yards) :\n",
    "    yards=input('how many yards would you like to convert into meters')\n",
    "    yards=int(yards)\n",
    "    meters=yards*0.9144\n",
    "    print(meters)"
   ]
  }
 ],
 "metadata": {
  "kernelspec": {
   "display_name": "Python 3",
   "language": "python",
   "name": "python3"
  },
  "language_info": {
   "codemirror_mode": {
    "name": "ipython",
    "version": 3
   },
   "file_extension": ".py",
   "mimetype": "text/x-python",
   "name": "python",
   "nbconvert_exporter": "python",
   "pygments_lexer": "ipython3",
   "version": "3.8.3"
  }
 },
 "nbformat": 4,
 "nbformat_minor": 4
}
